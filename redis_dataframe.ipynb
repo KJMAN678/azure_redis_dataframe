{
 "cells": [
  {
   "cell_type": "code",
   "execution_count": 1,
   "id": "german-bunch",
   "metadata": {},
   "outputs": [],
   "source": [
    "import redis\n",
    "import os\n",
    "import environ\n",
    "from pathlib import Path\n",
    "import pickle\n",
    "import pandas as pd"
   ]
  },
  {
   "cell_type": "markdown",
   "id": "difficult-savannah",
   "metadata": {},
   "source": [
    "### Redis の初期設定"
   ]
  },
  {
   "cell_type": "code",
   "execution_count": 2,
   "id": "foreign-lotus",
   "metadata": {},
   "outputs": [],
   "source": [
    "BASE_DIR = Path('__file__').resolve().parent\n",
    "env = environ.Env()\n",
    "env.read_env(os.path.join(BASE_DIR, \".env\"))\n",
    "HOST_NAME = env(\"HOST_NAME\")\n",
    "ACCESS_KEY = env(\"ACCESS_KEY\")"
   ]
  },
  {
   "cell_type": "code",
   "execution_count": 3,
   "id": "smooth-moderator",
   "metadata": {},
   "outputs": [],
   "source": [
    "r = redis.StrictRedis(host=HOST_NAME,\n",
    "    port=6380, db=0, password=ACCESS_KEY, ssl=True)"
   ]
  },
  {
   "cell_type": "markdown",
   "id": "durable-complement",
   "metadata": {},
   "source": [
    "### DataFrameで登録データを作成"
   ]
  },
  {
   "cell_type": "code",
   "execution_count": 4,
   "id": "appreciated-optimization",
   "metadata": {},
   "outputs": [
    {
     "data": {
      "text/html": [
       "<div>\n",
       "<style scoped>\n",
       "    .dataframe tbody tr th:only-of-type {\n",
       "        vertical-align: middle;\n",
       "    }\n",
       "\n",
       "    .dataframe tbody tr th {\n",
       "        vertical-align: top;\n",
       "    }\n",
       "\n",
       "    .dataframe thead th {\n",
       "        text-align: right;\n",
       "    }\n",
       "</style>\n",
       "<table border=\"1\" class=\"dataframe\">\n",
       "  <thead>\n",
       "    <tr style=\"text-align: right;\">\n",
       "      <th></th>\n",
       "      <th>scale</th>\n",
       "      <th>example</th>\n",
       "    </tr>\n",
       "  </thead>\n",
       "  <tbody>\n",
       "    <tr>\n",
       "      <th>0</th>\n",
       "      <td>Do</td>\n",
       "      <td>Deer</td>\n",
       "    </tr>\n",
       "    <tr>\n",
       "      <th>1</th>\n",
       "      <td>Re</td>\n",
       "      <td>Ray</td>\n",
       "    </tr>\n",
       "    <tr>\n",
       "      <th>2</th>\n",
       "      <td>Mi</td>\n",
       "      <td>Me</td>\n",
       "    </tr>\n",
       "    <tr>\n",
       "      <th>3</th>\n",
       "      <td>Fa</td>\n",
       "      <td>Far</td>\n",
       "    </tr>\n",
       "  </tbody>\n",
       "</table>\n",
       "</div>"
      ],
      "text/plain": [
       "  scale example\n",
       "0    Do    Deer\n",
       "1    Re     Ray\n",
       "2    Mi      Me\n",
       "3    Fa     Far"
      ]
     },
     "execution_count": 4,
     "metadata": {},
     "output_type": "execute_result"
    }
   ],
   "source": [
    "df1 = pd.DataFrame(\n",
    "    [\n",
    "        [\"Do\", \"Deer\"],\n",
    "        [\"Re\", \"Ray\"],\n",
    "        [\"Mi\", \"Me\"],\n",
    "        [\"Fa\", \"Far\"],    \n",
    "    ],\n",
    "    columns=[\"scale\", \"example\"]\n",
    ")\n",
    "\n",
    "df1"
   ]
  },
  {
   "cell_type": "markdown",
   "id": "aboriginal-library",
   "metadata": {},
   "source": [
    "### Redis に登録"
   ]
  },
  {
   "cell_type": "code",
   "execution_count": 5,
   "id": "coated-fusion",
   "metadata": {},
   "outputs": [],
   "source": [
    "r.flushall() # 全消去\n",
    "\n",
    "for i in range(len(df1)):\n",
    "    \n",
    "    key = df1.iloc[i:i+1][\"scale\"].values[0]\n",
    "    value = df1.iloc[i:i+1][\"example\"].values[0]\n",
    "    \n",
    "    r.set(key, value)"
   ]
  },
  {
   "cell_type": "code",
   "execution_count": 6,
   "id": "dried-clothing",
   "metadata": {},
   "outputs": [
    {
     "name": "stdout",
     "output_type": "stream",
     "text": [
      "Do Deer\n",
      "Fa Far\n",
      "Mi Me\n",
      "Re Ray\n"
     ]
    }
   ],
   "source": [
    "for key in r.keys():\n",
    "    print(key.decode('utf-8'), r.get(key).decode('utf-8'))"
   ]
  },
  {
   "cell_type": "markdown",
   "id": "isolated-header",
   "metadata": {},
   "source": [
    "### 書き換え"
   ]
  },
  {
   "cell_type": "code",
   "execution_count": 7,
   "id": "improved-detector",
   "metadata": {},
   "outputs": [
    {
     "data": {
      "text/html": [
       "<div>\n",
       "<style scoped>\n",
       "    .dataframe tbody tr th:only-of-type {\n",
       "        vertical-align: middle;\n",
       "    }\n",
       "\n",
       "    .dataframe tbody tr th {\n",
       "        vertical-align: top;\n",
       "    }\n",
       "\n",
       "    .dataframe thead th {\n",
       "        text-align: right;\n",
       "    }\n",
       "</style>\n",
       "<table border=\"1\" class=\"dataframe\">\n",
       "  <thead>\n",
       "    <tr style=\"text-align: right;\">\n",
       "      <th></th>\n",
       "      <th>scale</th>\n",
       "      <th>example</th>\n",
       "    </tr>\n",
       "  </thead>\n",
       "  <tbody>\n",
       "    <tr>\n",
       "      <th>0</th>\n",
       "      <td>Do</td>\n",
       "      <td>Donuts</td>\n",
       "    </tr>\n",
       "    <tr>\n",
       "      <th>1</th>\n",
       "      <td>Fa</td>\n",
       "      <td>Fight</td>\n",
       "    </tr>\n",
       "  </tbody>\n",
       "</table>\n",
       "</div>"
      ],
      "text/plain": [
       "  scale example\n",
       "0    Do  Donuts\n",
       "1    Fa   Fight"
      ]
     },
     "execution_count": 7,
     "metadata": {},
     "output_type": "execute_result"
    }
   ],
   "source": [
    "df2 = pd.DataFrame(\n",
    "    [\n",
    "        [\"Do\", \"Donuts\"],\n",
    "        [\"Fa\", \"Fight\"],    \n",
    "    ],\n",
    "    columns=[\"scale\", \"example\"]\n",
    ")\n",
    "\n",
    "df2"
   ]
  },
  {
   "cell_type": "code",
   "execution_count": 8,
   "id": "balanced-sterling",
   "metadata": {},
   "outputs": [
    {
     "name": "stdout",
     "output_type": "stream",
     "text": [
      "Do Donuts\n",
      "Fa Fight\n"
     ]
    }
   ],
   "source": [
    "for i in range(len(df2)):\n",
    "    \n",
    "    key = df2.iloc[i:i+1][\"scale\"].values[0]\n",
    "    value = df2.iloc[i:i+1][\"example\"].values[0]\n",
    "    print(key, value)\n",
    "    \n",
    "    r.set(key, value)"
   ]
  },
  {
   "cell_type": "markdown",
   "id": "assigned-ceremony",
   "metadata": {},
   "source": [
    "### 出力"
   ]
  },
  {
   "cell_type": "code",
   "execution_count": 9,
   "id": "german-remains",
   "metadata": {},
   "outputs": [
    {
     "name": "stdout",
     "output_type": "stream",
     "text": [
      "Do Donuts\n",
      "Fa Fight\n",
      "Mi Me\n",
      "Re Ray\n"
     ]
    }
   ],
   "source": [
    "for key in r.keys():\n",
    "    print(key.decode('utf-8'), r.get(key).decode('utf-8'))"
   ]
  },
  {
   "cell_type": "markdown",
   "id": "compact-panama",
   "metadata": {},
   "source": [
    "### ハッシュ型で登録"
   ]
  },
  {
   "cell_type": "code",
   "execution_count": 20,
   "id": "smart-nitrogen",
   "metadata": {},
   "outputs": [
    {
     "data": {
      "text/plain": [
       "0"
      ]
     },
     "execution_count": 20,
     "metadata": {},
     "output_type": "execute_result"
    }
   ],
   "source": [
    "pd_dict = dict(zip(df1[\"scale\"], df1['example']))\n",
    "\n",
    "r.hset(\"scale\", mapping=pd_dict)"
   ]
  },
  {
   "cell_type": "code",
   "execution_count": 23,
   "id": "involved-visibility",
   "metadata": {},
   "outputs": [
    {
     "data": {
      "text/plain": [
       "{b'Do': b'Deer', b'Re': b'Ray', b'Mi': b'Me', b'Fa': b'Far'}"
      ]
     },
     "execution_count": 23,
     "metadata": {},
     "output_type": "execute_result"
    }
   ],
   "source": [
    "# すべて出力\n",
    "print(r.hgetall(\"scale\"))\n",
    "\n",
    "# Key のみ出力\n",
    "print(r.hkeys(\"scale\"))\n",
    "\n",
    "# value のみ出力\n",
    "print(r.hvals(\"scale\"))"
   ]
  }
 ],
 "metadata": {
  "kernelspec": {
   "display_name": "Python 3",
   "language": "python",
   "name": "python3"
  },
  "language_info": {
   "codemirror_mode": {
    "name": "ipython",
    "version": 3
   },
   "file_extension": ".py",
   "mimetype": "text/x-python",
   "name": "python",
   "nbconvert_exporter": "python",
   "pygments_lexer": "ipython3",
   "version": "3.8.8"
  }
 },
 "nbformat": 4,
 "nbformat_minor": 5
}
